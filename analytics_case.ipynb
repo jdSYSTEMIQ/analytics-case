{
 "cells": [
  {
   "cell_type": "markdown",
   "metadata": {},
   "source": [
    "# Block A: Data Cleaning & Merging"
   ]
  },
  {
   "cell_type": "markdown",
   "metadata": {},
   "source": [
    "## 1. Loading Data"
   ]
  },
  {
   "cell_type": "code",
   "execution_count": 1,
   "metadata": {
    "scrolled": true
   },
   "outputs": [],
   "source": [
    "import numpy as np\n",
    "import pandas as pd\n",
    "import scipy.stats\n",
    "import seaborn as sb\n",
    "from sklearn import linear_model\n",
    "\n",
    "activities = pd.read_csv('activities.csv', parse_dates = ['Date'])\n",
    "users = pd.read_csv('users.csv', parse_dates = ['RegDate', 'DOB'])"
   ]
  },
  {
   "cell_type": "markdown",
   "metadata": {},
   "source": [
    "Quick preview of the data:"
   ]
  },
  {
   "cell_type": "code",
   "execution_count": 2,
   "metadata": {},
   "outputs": [
    {
     "data": {
      "text/html": [
       "<div>\n",
       "<style scoped>\n",
       "    .dataframe tbody tr th:only-of-type {\n",
       "        vertical-align: middle;\n",
       "    }\n",
       "\n",
       "    .dataframe tbody tr th {\n",
       "        vertical-align: top;\n",
       "    }\n",
       "\n",
       "    .dataframe thead th {\n",
       "        text-align: right;\n",
       "    }\n",
       "</style>\n",
       "<table border=\"1\" class=\"dataframe\">\n",
       "  <thead>\n",
       "    <tr style=\"text-align: right;\">\n",
       "      <th></th>\n",
       "      <th>UserId</th>\n",
       "      <th>Country</th>\n",
       "      <th>DOB</th>\n",
       "      <th>Gender</th>\n",
       "      <th>RegDate</th>\n",
       "    </tr>\n",
       "  </thead>\n",
       "  <tbody>\n",
       "    <tr>\n",
       "      <th>0</th>\n",
       "      <td>1326865</td>\n",
       "      <td>DE</td>\n",
       "      <td>1988-05-04</td>\n",
       "      <td>M</td>\n",
       "      <td>2016-03-24</td>\n",
       "    </tr>\n",
       "  </tbody>\n",
       "</table>\n",
       "</div>"
      ],
      "text/plain": [
       "    UserId Country        DOB Gender    RegDate\n",
       "0  1326865      DE 1988-05-04      M 2016-03-24"
      ]
     },
     "execution_count": 2,
     "metadata": {},
     "output_type": "execute_result"
    }
   ],
   "source": [
    "users.head(1)"
   ]
  },
  {
   "cell_type": "code",
   "execution_count": 3,
   "metadata": {},
   "outputs": [
    {
     "data": {
      "text/html": [
       "<div>\n",
       "<style scoped>\n",
       "    .dataframe tbody tr th:only-of-type {\n",
       "        vertical-align: middle;\n",
       "    }\n",
       "\n",
       "    .dataframe tbody tr th {\n",
       "        vertical-align: top;\n",
       "    }\n",
       "\n",
       "    .dataframe thead th {\n",
       "        text-align: right;\n",
       "    }\n",
       "</style>\n",
       "<table border=\"1\" class=\"dataframe\">\n",
       "  <thead>\n",
       "    <tr style=\"text-align: right;\">\n",
       "      <th></th>\n",
       "      <th>UserId</th>\n",
       "      <th>Date</th>\n",
       "      <th>Revenue</th>\n",
       "    </tr>\n",
       "  </thead>\n",
       "  <tbody>\n",
       "    <tr>\n",
       "      <th>0</th>\n",
       "      <td>1326865</td>\n",
       "      <td>2017-02-19</td>\n",
       "      <td>17.05</td>\n",
       "    </tr>\n",
       "  </tbody>\n",
       "</table>\n",
       "</div>"
      ],
      "text/plain": [
       "    UserId       Date  Revenue\n",
       "0  1326865 2017-02-19    17.05"
      ]
     },
     "execution_count": 3,
     "metadata": {},
     "output_type": "execute_result"
    }
   ],
   "source": [
    "activities.head(1)"
   ]
  },
  {
   "cell_type": "markdown",
   "metadata": {},
   "source": [
    "### Number of Variables and Observations"
   ]
  },
  {
   "cell_type": "code",
   "execution_count": 4,
   "metadata": {},
   "outputs": [
    {
     "data": {
      "text/plain": [
       "(22642, 3)"
      ]
     },
     "execution_count": 4,
     "metadata": {},
     "output_type": "execute_result"
    }
   ],
   "source": [
    "activities.shape"
   ]
  },
  {
   "cell_type": "code",
   "execution_count": 5,
   "metadata": {},
   "outputs": [
    {
     "data": {
      "text/plain": [
       "(5807, 5)"
      ]
     },
     "execution_count": 5,
     "metadata": {},
     "output_type": "execute_result"
    }
   ],
   "source": [
    "users.shape"
   ]
  },
  {
   "cell_type": "markdown",
   "metadata": {},
   "source": [
    "- Activities\n",
    "    - 22643 observations\n",
    "    - 3 variables\n",
    "   \n",
    "- Users\n",
    "    - 5807 oversations\n",
    "    - 5 variables\n",
    "    \n",
    "Let us check if for any NaN values:"
   ]
  },
  {
   "cell_type": "code",
   "execution_count": 6,
   "metadata": {},
   "outputs": [
    {
     "data": {
      "text/plain": [
       "False"
      ]
     },
     "execution_count": 6,
     "metadata": {},
     "output_type": "execute_result"
    }
   ],
   "source": [
    "activities.isnull().values.any()"
   ]
  },
  {
   "cell_type": "code",
   "execution_count": 7,
   "metadata": {},
   "outputs": [
    {
     "data": {
      "text/plain": [
       "False"
      ]
     },
     "execution_count": 7,
     "metadata": {},
     "output_type": "execute_result"
    }
   ],
   "source": [
    "users.isnull().values.any()"
   ]
  },
  {
   "cell_type": "markdown",
   "metadata": {},
   "source": [
    "## 2. Number of Male and Female users in Dataset"
   ]
  },
  {
   "cell_type": "code",
   "execution_count": 8,
   "metadata": {},
   "outputs": [
    {
     "data": {
      "text/plain": [
       "Gender\n",
       "M    2909\n",
       "     1481\n",
       "F    1417\n",
       "dtype: int64"
      ]
     },
     "execution_count": 8,
     "metadata": {},
     "output_type": "execute_result"
    }
   ],
   "source": [
    "users.value_counts('Gender')"
   ]
  },
  {
   "cell_type": "markdown",
   "metadata": {},
   "source": [
    "We have 2909 male, 1417 female, and 1481 users with no available information (whitespace in this case)."
   ]
  },
  {
   "cell_type": "markdown",
   "metadata": {},
   "source": [
    "## 3. Merge Datasets"
   ]
  },
  {
   "cell_type": "markdown",
   "metadata": {},
   "source": [
    "Before merging let's check if all userIDs are present in the activities dataset, and all userIDs in the activities dataset are indeed present in the users dataset:"
   ]
  },
  {
   "cell_type": "code",
   "execution_count": 9,
   "metadata": {
    "scrolled": false
   },
   "outputs": [
    {
     "data": {
      "text/html": [
       "<div>\n",
       "<style scoped>\n",
       "    .dataframe tbody tr th:only-of-type {\n",
       "        vertical-align: middle;\n",
       "    }\n",
       "\n",
       "    .dataframe tbody tr th {\n",
       "        vertical-align: top;\n",
       "    }\n",
       "\n",
       "    .dataframe thead th {\n",
       "        text-align: right;\n",
       "    }\n",
       "</style>\n",
       "<table border=\"1\" class=\"dataframe\">\n",
       "  <thead>\n",
       "    <tr style=\"text-align: right;\">\n",
       "      <th></th>\n",
       "      <th>UserId</th>\n",
       "      <th>Country</th>\n",
       "      <th>DOB</th>\n",
       "      <th>Gender</th>\n",
       "      <th>RegDate</th>\n",
       "    </tr>\n",
       "  </thead>\n",
       "  <tbody>\n",
       "    <tr>\n",
       "      <th>478</th>\n",
       "      <td>3022012</td>\n",
       "      <td>GB</td>\n",
       "      <td>1968-03-18</td>\n",
       "      <td>M</td>\n",
       "      <td>2016-10-26</td>\n",
       "    </tr>\n",
       "    <tr>\n",
       "      <th>2068</th>\n",
       "      <td>3183514</td>\n",
       "      <td>GB</td>\n",
       "      <td>1972-04-27</td>\n",
       "      <td>F</td>\n",
       "      <td>2016-10-25</td>\n",
       "    </tr>\n",
       "    <tr>\n",
       "      <th>2070</th>\n",
       "      <td>3183537</td>\n",
       "      <td>GB</td>\n",
       "      <td>1972-04-27</td>\n",
       "      <td>F</td>\n",
       "      <td>2017-01-04</td>\n",
       "    </tr>\n",
       "    <tr>\n",
       "      <th>2228</th>\n",
       "      <td>3188926</td>\n",
       "      <td>GB</td>\n",
       "      <td>1992-07-08</td>\n",
       "      <td>F</td>\n",
       "      <td>2017-02-11</td>\n",
       "    </tr>\n",
       "    <tr>\n",
       "      <th>2902</th>\n",
       "      <td>3214796</td>\n",
       "      <td>GB</td>\n",
       "      <td>1973-09-06</td>\n",
       "      <td>M</td>\n",
       "      <td>2017-01-31</td>\n",
       "    </tr>\n",
       "    <tr>\n",
       "      <th>3204</th>\n",
       "      <td>3228231</td>\n",
       "      <td>GB</td>\n",
       "      <td>1985-08-24</td>\n",
       "      <td>F</td>\n",
       "      <td>2016-12-26</td>\n",
       "    </tr>\n",
       "    <tr>\n",
       "      <th>3605</th>\n",
       "      <td>3248027</td>\n",
       "      <td>GB</td>\n",
       "      <td>1966-09-15</td>\n",
       "      <td>M</td>\n",
       "      <td>2017-04-27</td>\n",
       "    </tr>\n",
       "    <tr>\n",
       "      <th>5484</th>\n",
       "      <td>3330595</td>\n",
       "      <td>GB</td>\n",
       "      <td>1996-04-01</td>\n",
       "      <td>M</td>\n",
       "      <td>2017-05-05</td>\n",
       "    </tr>\n",
       "    <tr>\n",
       "      <th>5690</th>\n",
       "      <td>3341993</td>\n",
       "      <td>GB</td>\n",
       "      <td>1975-05-29</td>\n",
       "      <td>M</td>\n",
       "      <td>2017-03-20</td>\n",
       "    </tr>\n",
       "    <tr>\n",
       "      <th>5796</th>\n",
       "      <td>3346950</td>\n",
       "      <td>GB</td>\n",
       "      <td>1982-12-25</td>\n",
       "      <td>F</td>\n",
       "      <td>2016-12-05</td>\n",
       "    </tr>\n",
       "  </tbody>\n",
       "</table>\n",
       "</div>"
      ],
      "text/plain": [
       "       UserId Country        DOB Gender    RegDate\n",
       "478   3022012      GB 1968-03-18      M 2016-10-26\n",
       "2068  3183514      GB 1972-04-27      F 2016-10-25\n",
       "2070  3183537      GB 1972-04-27      F 2017-01-04\n",
       "2228  3188926      GB 1992-07-08      F 2017-02-11\n",
       "2902  3214796      GB 1973-09-06      M 2017-01-31\n",
       "3204  3228231      GB 1985-08-24      F 2016-12-26\n",
       "3605  3248027      GB 1966-09-15      M 2017-04-27\n",
       "5484  3330595      GB 1996-04-01      M 2017-05-05\n",
       "5690  3341993      GB 1975-05-29      M 2017-03-20\n",
       "5796  3346950      GB 1982-12-25      F 2016-12-05"
      ]
     },
     "execution_count": 9,
     "metadata": {},
     "output_type": "execute_result"
    }
   ],
   "source": [
    "users[~users.UserId.isin(activities.UserId)]"
   ]
  },
  {
   "cell_type": "code",
   "execution_count": 10,
   "metadata": {},
   "outputs": [
    {
     "data": {
      "text/html": [
       "<div>\n",
       "<style scoped>\n",
       "    .dataframe tbody tr th:only-of-type {\n",
       "        vertical-align: middle;\n",
       "    }\n",
       "\n",
       "    .dataframe tbody tr th {\n",
       "        vertical-align: top;\n",
       "    }\n",
       "\n",
       "    .dataframe thead th {\n",
       "        text-align: right;\n",
       "    }\n",
       "</style>\n",
       "<table border=\"1\" class=\"dataframe\">\n",
       "  <thead>\n",
       "    <tr style=\"text-align: right;\">\n",
       "      <th></th>\n",
       "      <th>UserId</th>\n",
       "      <th>Date</th>\n",
       "      <th>Revenue</th>\n",
       "    </tr>\n",
       "  </thead>\n",
       "  <tbody>\n",
       "  </tbody>\n",
       "</table>\n",
       "</div>"
      ],
      "text/plain": [
       "Empty DataFrame\n",
       "Columns: [UserId, Date, Revenue]\n",
       "Index: []"
      ]
     },
     "execution_count": 10,
     "metadata": {},
     "output_type": "execute_result"
    }
   ],
   "source": [
    "activities[~activities.UserId.isin(users.UserId)]"
   ]
  },
  {
   "cell_type": "markdown",
   "metadata": {},
   "source": [
    "From this result we know that 10 users have not done any activities. For simplicity of further calculations let us assume that each of those users has one activity with zero revenue on their registration date."
   ]
  },
  {
   "cell_type": "code",
   "execution_count": 11,
   "metadata": {},
   "outputs": [
    {
     "data": {
      "text/html": [
       "<div>\n",
       "<style scoped>\n",
       "    .dataframe tbody tr th:only-of-type {\n",
       "        vertical-align: middle;\n",
       "    }\n",
       "\n",
       "    .dataframe tbody tr th {\n",
       "        vertical-align: top;\n",
       "    }\n",
       "\n",
       "    .dataframe thead th {\n",
       "        text-align: right;\n",
       "    }\n",
       "</style>\n",
       "<table border=\"1\" class=\"dataframe\">\n",
       "  <thead>\n",
       "    <tr style=\"text-align: right;\">\n",
       "      <th></th>\n",
       "      <th>UserId</th>\n",
       "      <th>Country</th>\n",
       "      <th>DOB</th>\n",
       "      <th>Gender</th>\n",
       "      <th>RegDate</th>\n",
       "      <th>Date</th>\n",
       "      <th>Revenue</th>\n",
       "    </tr>\n",
       "  </thead>\n",
       "  <tbody>\n",
       "    <tr>\n",
       "      <th>0</th>\n",
       "      <td>1326865</td>\n",
       "      <td>DE</td>\n",
       "      <td>1988-05-04</td>\n",
       "      <td>M</td>\n",
       "      <td>2016-03-24</td>\n",
       "      <td>2017-02-19</td>\n",
       "      <td>17.05</td>\n",
       "    </tr>\n",
       "  </tbody>\n",
       "</table>\n",
       "</div>"
      ],
      "text/plain": [
       "    UserId Country        DOB Gender    RegDate       Date  Revenue\n",
       "0  1326865      DE 1988-05-04      M 2016-03-24 2017-02-19    17.05"
      ]
     },
     "execution_count": 11,
     "metadata": {},
     "output_type": "execute_result"
    }
   ],
   "source": [
    "user_activities = users.merge(activities, on='UserId', how='outer')\n",
    "\n",
    "# Fill values\n",
    "user_activities.Revenue.fillna(0, inplace=True)\n",
    "\n",
    "# Assume user has an activity on the registration date. Zero revenue is added later.\n",
    "row_has_NaN = (user_activities.isnull()).any(axis=1)\n",
    "user_activities.loc[row_has_NaN, 'Date'] = user_activities.RegDate[row_has_NaN]\n",
    "\n",
    "user_activities.head(1)"
   ]
  },
  {
   "cell_type": "markdown",
   "metadata": {},
   "source": [
    " Days since registration and age:"
   ]
  },
  {
   "cell_type": "code",
   "execution_count": 12,
   "metadata": {},
   "outputs": [],
   "source": [
    "user_activities['DSR'] = user_activities.Date - user_activities.RegDate\n",
    "user_activities['Age'] = user_activities.RegDate - pd.to_datetime(user_activities.DOB)"
   ]
  },
  {
   "cell_type": "markdown",
   "metadata": {},
   "source": [
    "Mean and median total revenue per user:"
   ]
  },
  {
   "cell_type": "code",
   "execution_count": 13,
   "metadata": {
    "scrolled": true
   },
   "outputs": [
    {
     "data": {
      "text/html": [
       "<div>\n",
       "<style scoped>\n",
       "    .dataframe tbody tr th:only-of-type {\n",
       "        vertical-align: middle;\n",
       "    }\n",
       "\n",
       "    .dataframe tbody tr th {\n",
       "        vertical-align: top;\n",
       "    }\n",
       "\n",
       "    .dataframe thead th {\n",
       "        text-align: right;\n",
       "    }\n",
       "</style>\n",
       "<table border=\"1\" class=\"dataframe\">\n",
       "  <thead>\n",
       "    <tr style=\"text-align: right;\">\n",
       "      <th></th>\n",
       "      <th>TotalRevenue</th>\n",
       "    </tr>\n",
       "  </thead>\n",
       "  <tbody>\n",
       "    <tr>\n",
       "      <th>count</th>\n",
       "      <td>5807.000000</td>\n",
       "    </tr>\n",
       "    <tr>\n",
       "      <th>mean</th>\n",
       "      <td>511.807730</td>\n",
       "    </tr>\n",
       "    <tr>\n",
       "      <th>std</th>\n",
       "      <td>3054.599213</td>\n",
       "    </tr>\n",
       "    <tr>\n",
       "      <th>min</th>\n",
       "      <td>0.000000</td>\n",
       "    </tr>\n",
       "    <tr>\n",
       "      <th>25%</th>\n",
       "      <td>25.580000</td>\n",
       "    </tr>\n",
       "    <tr>\n",
       "      <th>50%</th>\n",
       "      <td>80.000000</td>\n",
       "    </tr>\n",
       "    <tr>\n",
       "      <th>75%</th>\n",
       "      <td>240.000000</td>\n",
       "    </tr>\n",
       "    <tr>\n",
       "      <th>max</th>\n",
       "      <td>104917.000000</td>\n",
       "    </tr>\n",
       "  </tbody>\n",
       "</table>\n",
       "</div>"
      ],
      "text/plain": [
       "        TotalRevenue\n",
       "count    5807.000000\n",
       "mean      511.807730\n",
       "std      3054.599213\n",
       "min         0.000000\n",
       "25%        25.580000\n",
       "50%        80.000000\n",
       "75%       240.000000\n",
       "max    104917.000000"
      ]
     },
     "execution_count": 13,
     "metadata": {},
     "output_type": "execute_result"
    }
   ],
   "source": [
    "revenue = user_activities.groupby('UserId').agg(TotalRevenue=('Revenue', 'sum'))\n",
    "revenue.describe()"
   ]
  },
  {
   "cell_type": "markdown",
   "metadata": {},
   "source": [
    "The median is much smaller than the mean. That means that several users earn a lot of with respect to the rest of the group.\n",
    "\n",
    "Also we can expect that the distribution is not normal."
   ]
  },
  {
   "cell_type": "markdown",
   "metadata": {},
   "source": [
    "## 4. Distribution of revenue by user"
   ]
  },
  {
   "cell_type": "code",
   "execution_count": 14,
   "metadata": {
    "scrolled": false
   },
   "outputs": [
    {
     "data": {
      "image/png": "[encoded data removed]",
      "text/plain": [
       "<Figure size 432x288 with 1 Axes>"
      ]
     },
     "metadata": {
      "needs_background": "light"
     },
     "output_type": "display_data"
    }
   ],
   "source": [
    "with sb.plotting_context(\"notebook\"):\n",
    "    # Remove zero values to avoid negative infinity in the log plot\n",
    "    sb.histplot(revenue.loc[revenue.TotalRevenue > 0] , x=\"TotalRevenue\", log_scale=True);"
   ]
  },
  {
   "cell_type": "markdown",
   "metadata": {},
   "source": [
    "## 5. Revenue in first day and week since registration\n",
    "The idea of this section is to build a dataframe with all the information that we will need later, i.e.,  a dataframe with columns:\n",
    "\n",
    "| UserId | Gender | Country | Age | TotalRevenue | Week1Revenue | Day1Revenue | "
   ]
  },
  {
   "cell_type": "code",
   "execution_count": 15,
   "metadata": {},
   "outputs": [],
   "source": [
    "# Revenue per first Day\n",
    "filtered_1_day = user_activities[user_activities.DSR < pd.Timedelta(1, \"d\")]\n",
    "day_1_revenue = filtered_1_day.groupby(['UserId'])\\\n",
    "                .agg(Day1Revenue = ('Revenue', 'sum')).reset_index()\n",
    "\n",
    "# Revenue per First Week\n",
    "# Assume week starts on registration date, so first 7 days are given by indices 0,1,2,3,4,5,6\n",
    "filtered_1_week = user_activities[user_activities.DSR < pd.Timedelta(7, \"d\")]\n",
    "week_1_revenue = filtered_1_week.groupby(['UserId'])\\\n",
    "                .agg(Week1Revenue = ('Revenue', 'sum')).reset_index()"
   ]
  },
  {
   "cell_type": "markdown",
   "metadata": {},
   "source": [
    "### Merge results from previous cell in one dataframe"
   ]
  },
  {
   "cell_type": "code",
   "execution_count": 16,
   "metadata": {
    "scrolled": false
   },
   "outputs": [
    {
     "data": {
      "text/html": [
       "<div>\n",
       "<style scoped>\n",
       "    .dataframe tbody tr th:only-of-type {\n",
       "        vertical-align: middle;\n",
       "    }\n",
       "\n",
       "    .dataframe tbody tr th {\n",
       "        vertical-align: top;\n",
       "    }\n",
       "\n",
       "    .dataframe thead th {\n",
       "        text-align: right;\n",
       "    }\n",
       "</style>\n",
       "<table border=\"1\" class=\"dataframe\">\n",
       "  <thead>\n",
       "    <tr style=\"text-align: right;\">\n",
       "      <th></th>\n",
       "      <th>UserId</th>\n",
       "      <th>Gender</th>\n",
       "      <th>Country</th>\n",
       "      <th>Age</th>\n",
       "      <th>TotalRevenue</th>\n",
       "      <th>Week1Revenue</th>\n",
       "      <th>Day1Revenue</th>\n",
       "    </tr>\n",
       "  </thead>\n",
       "  <tbody>\n",
       "    <tr>\n",
       "      <th>5802</th>\n",
       "      <td>3347222</td>\n",
       "      <td>M</td>\n",
       "      <td>FR</td>\n",
       "      <td>18199 days</td>\n",
       "      <td>230.27</td>\n",
       "      <td>56.80</td>\n",
       "      <td>37.52</td>\n",
       "    </tr>\n",
       "    <tr>\n",
       "      <th>5803</th>\n",
       "      <td>3347251</td>\n",
       "      <td>F</td>\n",
       "      <td>GB</td>\n",
       "      <td>13080 days</td>\n",
       "      <td>30.00</td>\n",
       "      <td>30.00</td>\n",
       "      <td>30.00</td>\n",
       "    </tr>\n",
       "    <tr>\n",
       "      <th>5804</th>\n",
       "      <td>3347333</td>\n",
       "      <td>M</td>\n",
       "      <td>GB</td>\n",
       "      <td>10659 days</td>\n",
       "      <td>30.00</td>\n",
       "      <td>30.00</td>\n",
       "      <td>30.00</td>\n",
       "    </tr>\n",
       "    <tr>\n",
       "      <th>5805</th>\n",
       "      <td>3347367</td>\n",
       "      <td>F</td>\n",
       "      <td>US</td>\n",
       "      <td>7909 days</td>\n",
       "      <td>17.05</td>\n",
       "      <td>17.05</td>\n",
       "      <td>17.05</td>\n",
       "    </tr>\n",
       "    <tr>\n",
       "      <th>5806</th>\n",
       "      <td>3347450</td>\n",
       "      <td>M</td>\n",
       "      <td>US</td>\n",
       "      <td>8301 days</td>\n",
       "      <td>42.63</td>\n",
       "      <td>42.63</td>\n",
       "      <td>42.63</td>\n",
       "    </tr>\n",
       "  </tbody>\n",
       "</table>\n",
       "</div>"
      ],
      "text/plain": [
       "       UserId Gender Country        Age  TotalRevenue  Week1Revenue  \\\n",
       "5802  3347222      M      FR 18199 days        230.27         56.80   \n",
       "5803  3347251      F      GB 13080 days         30.00         30.00   \n",
       "5804  3347333      M      GB 10659 days         30.00         30.00   \n",
       "5805  3347367      F      US  7909 days         17.05         17.05   \n",
       "5806  3347450      M      US  8301 days         42.63         42.63   \n",
       "\n",
       "      Day1Revenue  \n",
       "5802        37.52  \n",
       "5803        30.00  \n",
       "5804        30.00  \n",
       "5805        17.05  \n",
       "5806        42.63  "
      ]
     },
     "execution_count": 16,
     "metadata": {},
     "output_type": "execute_result"
    }
   ],
   "source": [
    "dfg = user_activities.groupby(['UserId','Gender', 'Country', 'Age'])\n",
    "dummy1 = dfg.agg(TotalRevenue = ('Revenue', 'sum')).reset_index()\n",
    "dummy2 = dummy1.merge(week_1_revenue, on='UserId', how='outer')\n",
    "df = dummy2.merge(day_1_revenue, on='UserId', how='outer')\n",
    "\n",
    "# If there was no activity on day or week 1 then revenue was zero\n",
    "df.Week1Revenue.fillna(0, inplace=True)\n",
    "df.Day1Revenue.fillna(0, inplace=True)\n",
    "\n",
    "# Assume Gender Male when there is no available gender\n",
    "df.replace(' ', 'M', inplace=True)\n",
    "df.tail()"
   ]
  },
  {
   "cell_type": "markdown",
   "metadata": {},
   "source": [
    "### Sanity Check\n",
    "In the table above we should observe: total revenue >= week 1 revenue >= day 1 revenue. "
   ]
  },
  {
   "cell_type": "markdown",
   "metadata": {},
   "source": [
    "### Average week 1 revenue\n",
    "\n",
    "From the Table below the average week 1 revenue is 166."
   ]
  },
  {
   "cell_type": "code",
   "execution_count": 17,
   "metadata": {},
   "outputs": [
    {
     "data": {
      "text/html": [
       "<div>\n",
       "<style scoped>\n",
       "    .dataframe tbody tr th:only-of-type {\n",
       "        vertical-align: middle;\n",
       "    }\n",
       "\n",
       "    .dataframe tbody tr th {\n",
       "        vertical-align: top;\n",
       "    }\n",
       "\n",
       "    .dataframe thead th {\n",
       "        text-align: right;\n",
       "    }\n",
       "</style>\n",
       "<table border=\"1\" class=\"dataframe\">\n",
       "  <thead>\n",
       "    <tr style=\"text-align: right;\">\n",
       "      <th></th>\n",
       "      <th>UserId</th>\n",
       "      <th>Age</th>\n",
       "      <th>TotalRevenue</th>\n",
       "      <th>Week1Revenue</th>\n",
       "      <th>Day1Revenue</th>\n",
       "    </tr>\n",
       "  </thead>\n",
       "  <tbody>\n",
       "    <tr>\n",
       "      <th>count</th>\n",
       "      <td>5.807000e+03</td>\n",
       "      <td>5807</td>\n",
       "      <td>5807.000000</td>\n",
       "      <td>5807.000000</td>\n",
       "      <td>5807.000000</td>\n",
       "    </tr>\n",
       "    <tr>\n",
       "      <th>mean</th>\n",
       "      <td>3.173594e+06</td>\n",
       "      <td>13323 days 16:29:25.593249408</td>\n",
       "      <td>511.807730</td>\n",
       "      <td>166.056609</td>\n",
       "      <td>95.086246</td>\n",
       "    </tr>\n",
       "    <tr>\n",
       "      <th>std</th>\n",
       "      <td>2.319768e+05</td>\n",
       "      <td>4113 days 16:14:44.439623168</td>\n",
       "      <td>3054.599213</td>\n",
       "      <td>579.323055</td>\n",
       "      <td>322.200608</td>\n",
       "    </tr>\n",
       "    <tr>\n",
       "      <th>min</th>\n",
       "      <td>1.326865e+06</td>\n",
       "      <td>6505 days 00:00:00</td>\n",
       "      <td>0.000000</td>\n",
       "      <td>0.000000</td>\n",
       "      <td>0.000000</td>\n",
       "    </tr>\n",
       "    <tr>\n",
       "      <th>25%</th>\n",
       "      <td>3.162306e+06</td>\n",
       "      <td>10252 days 12:00:00</td>\n",
       "      <td>25.580000</td>\n",
       "      <td>20.000000</td>\n",
       "      <td>17.050000</td>\n",
       "    </tr>\n",
       "    <tr>\n",
       "      <th>50%</th>\n",
       "      <td>3.214801e+06</td>\n",
       "      <td>12505 days 00:00:00</td>\n",
       "      <td>80.000000</td>\n",
       "      <td>40.000000</td>\n",
       "      <td>29.190000</td>\n",
       "    </tr>\n",
       "    <tr>\n",
       "      <th>75%</th>\n",
       "      <td>3.278615e+06</td>\n",
       "      <td>15740 days 12:00:00</td>\n",
       "      <td>240.000000</td>\n",
       "      <td>105.000000</td>\n",
       "      <td>85.135000</td>\n",
       "    </tr>\n",
       "    <tr>\n",
       "      <th>max</th>\n",
       "      <td>3.347450e+06</td>\n",
       "      <td>42529 days 00:00:00</td>\n",
       "      <td>104917.000000</td>\n",
       "      <td>19350.000000</td>\n",
       "      <td>10200.000000</td>\n",
       "    </tr>\n",
       "  </tbody>\n",
       "</table>\n",
       "</div>"
      ],
      "text/plain": [
       "             UserId                            Age   TotalRevenue  \\\n",
       "count  5.807000e+03                           5807    5807.000000   \n",
       "mean   3.173594e+06  13323 days 16:29:25.593249408     511.807730   \n",
       "std    2.319768e+05   4113 days 16:14:44.439623168    3054.599213   \n",
       "min    1.326865e+06             6505 days 00:00:00       0.000000   \n",
       "25%    3.162306e+06            10252 days 12:00:00      25.580000   \n",
       "50%    3.214801e+06            12505 days 00:00:00      80.000000   \n",
       "75%    3.278615e+06            15740 days 12:00:00     240.000000   \n",
       "max    3.347450e+06            42529 days 00:00:00  104917.000000   \n",
       "\n",
       "       Week1Revenue   Day1Revenue  \n",
       "count   5807.000000   5807.000000  \n",
       "mean     166.056609     95.086246  \n",
       "std      579.323055    322.200608  \n",
       "min        0.000000      0.000000  \n",
       "25%       20.000000     17.050000  \n",
       "50%       40.000000     29.190000  \n",
       "75%      105.000000     85.135000  \n",
       "max    19350.000000  10200.000000  "
      ]
     },
     "execution_count": 17,
     "metadata": {},
     "output_type": "execute_result"
    }
   ],
   "source": [
    "df.describe()"
   ]
  },
  {
   "cell_type": "markdown",
   "metadata": {},
   "source": [
    "# Block B"
   ]
  },
  {
   "cell_type": "markdown",
   "metadata": {},
   "source": [
    "## 6. Statistical Significance\n",
    "\n",
    "Let's visualize the difference in week 1 revenue by gender with 95% confidence intervals:"
   ]
  },
  {
   "cell_type": "code",
   "execution_count": 18,
   "metadata": {
    "scrolled": true
   },
   "outputs": [
    {
     "data": {
      "image/png": "[encoded data removed]",
      "text/plain": [
       "<Figure size 432x288 with 1 Axes>"
      ]
     },
     "metadata": {
      "needs_background": "light"
     },
     "output_type": "display_data"
    }
   ],
   "source": [
    "sb.barplot(x='Gender', y='Week1Revenue', data=df);"
   ]
  },
  {
   "cell_type": "markdown",
   "metadata": {},
   "source": [
    "From the distribution of revenue by user we know that the data is skewed, so we should perform a non-parametric test. \n",
    "\n",
    "The Mann Whitney U Test makes no assumption about the distribution of the population, and it can take sample sizes of different sizes as input."
   ]
  },
  {
   "cell_type": "code",
   "execution_count": 19,
   "metadata": {},
   "outputs": [
    {
     "data": {
      "text/plain": [
       "MannwhitneyuResult(statistic=2803698.5, pvalue=1.0914613065885675e-08)"
      ]
     },
     "execution_count": 19,
     "metadata": {},
     "output_type": "execute_result"
    }
   ],
   "source": [
    "ttest_res = scipy.stats.mannwhitneyu(\n",
    "                      (df.loc[df.Gender=='M', 'Week1Revenue']).to_numpy()\n",
    "                    , (df.loc[df.Gender=='F', 'Week1Revenue']).to_numpy()\n",
    "                      )\n",
    "ttest_res"
   ]
  },
  {
   "cell_type": "markdown",
   "metadata": {},
   "source": [
    "According to the p-value printed above (1.09e-08) the difference between men and women is very significant. "
   ]
  },
  {
   "cell_type": "markdown",
   "metadata": {},
   "source": [
    "## 7. Country where first week revenue difference is largest"
   ]
  },
  {
   "cell_type": "markdown",
   "metadata": {},
   "source": [
    "### Computing the difference for each country"
   ]
  },
  {
   "cell_type": "code",
   "execution_count": 20,
   "metadata": {
    "scrolled": true
   },
   "outputs": [
    {
     "data": {
      "text/html": [
       "<div>\n",
       "<style scoped>\n",
       "    .dataframe tbody tr th:only-of-type {\n",
       "        vertical-align: middle;\n",
       "    }\n",
       "\n",
       "    .dataframe tbody tr th {\n",
       "        vertical-align: top;\n",
       "    }\n",
       "\n",
       "    .dataframe thead th {\n",
       "        text-align: right;\n",
       "    }\n",
       "</style>\n",
       "<table border=\"1\" class=\"dataframe\">\n",
       "  <thead>\n",
       "    <tr style=\"text-align: right;\">\n",
       "      <th></th>\n",
       "      <th></th>\n",
       "      <th>UserId</th>\n",
       "      <th>TotalRevenue</th>\n",
       "      <th>Week1Revenue</th>\n",
       "      <th>Day1Revenue</th>\n",
       "    </tr>\n",
       "    <tr>\n",
       "      <th>Country</th>\n",
       "      <th>Gender</th>\n",
       "      <th></th>\n",
       "      <th></th>\n",
       "      <th></th>\n",
       "      <th></th>\n",
       "    </tr>\n",
       "  </thead>\n",
       "  <tbody>\n",
       "    <tr>\n",
       "      <th rowspan=\"2\" valign=\"top\">DE</th>\n",
       "      <th>F</th>\n",
       "      <td>3.117358e+06</td>\n",
       "      <td>216.432687</td>\n",
       "      <td>92.497413</td>\n",
       "      <td>52.314677</td>\n",
       "    </tr>\n",
       "    <tr>\n",
       "      <th>M</th>\n",
       "      <td>3.191690e+06</td>\n",
       "      <td>320.842191</td>\n",
       "      <td>134.923562</td>\n",
       "      <td>80.713401</td>\n",
       "    </tr>\n",
       "    <tr>\n",
       "      <th rowspan=\"2\" valign=\"top\">FR</th>\n",
       "      <th>F</th>\n",
       "      <td>3.152638e+06</td>\n",
       "      <td>501.179067</td>\n",
       "      <td>189.108800</td>\n",
       "      <td>87.116133</td>\n",
       "    </tr>\n",
       "    <tr>\n",
       "      <th>M</th>\n",
       "      <td>3.167049e+06</td>\n",
       "      <td>591.082730</td>\n",
       "      <td>225.429056</td>\n",
       "      <td>126.618138</td>\n",
       "    </tr>\n",
       "    <tr>\n",
       "      <th rowspan=\"2\" valign=\"top\">GB</th>\n",
       "      <th>F</th>\n",
       "      <td>3.145570e+06</td>\n",
       "      <td>641.749753</td>\n",
       "      <td>182.231190</td>\n",
       "      <td>94.644833</td>\n",
       "    </tr>\n",
       "    <tr>\n",
       "      <th>M</th>\n",
       "      <td>3.197422e+06</td>\n",
       "      <td>548.840400</td>\n",
       "      <td>197.949611</td>\n",
       "      <td>114.946489</td>\n",
       "    </tr>\n",
       "    <tr>\n",
       "      <th rowspan=\"2\" valign=\"top\">Other</th>\n",
       "      <th>F</th>\n",
       "      <td>3.078948e+06</td>\n",
       "      <td>448.067289</td>\n",
       "      <td>62.334267</td>\n",
       "      <td>35.360356</td>\n",
       "    </tr>\n",
       "    <tr>\n",
       "      <th>M</th>\n",
       "      <td>3.133556e+06</td>\n",
       "      <td>279.730437</td>\n",
       "      <td>114.954699</td>\n",
       "      <td>63.077093</td>\n",
       "    </tr>\n",
       "    <tr>\n",
       "      <th rowspan=\"2\" valign=\"top\">US</th>\n",
       "      <th>F</th>\n",
       "      <td>3.188557e+06</td>\n",
       "      <td>374.329559</td>\n",
       "      <td>118.619736</td>\n",
       "      <td>74.923392</td>\n",
       "    </tr>\n",
       "    <tr>\n",
       "      <th>M</th>\n",
       "      <td>3.202551e+06</td>\n",
       "      <td>783.490899</td>\n",
       "      <td>181.792241</td>\n",
       "      <td>109.456886</td>\n",
       "    </tr>\n",
       "  </tbody>\n",
       "</table>\n",
       "</div>"
      ],
      "text/plain": [
       "                      UserId  TotalRevenue  Week1Revenue  Day1Revenue\n",
       "Country Gender                                                       \n",
       "DE      F       3.117358e+06    216.432687     92.497413    52.314677\n",
       "        M       3.191690e+06    320.842191    134.923562    80.713401\n",
       "FR      F       3.152638e+06    501.179067    189.108800    87.116133\n",
       "        M       3.167049e+06    591.082730    225.429056   126.618138\n",
       "GB      F       3.145570e+06    641.749753    182.231190    94.644833\n",
       "        M       3.197422e+06    548.840400    197.949611   114.946489\n",
       "Other   F       3.078948e+06    448.067289     62.334267    35.360356\n",
       "        M       3.133556e+06    279.730437    114.954699    63.077093\n",
       "US      F       3.188557e+06    374.329559    118.619736    74.923392\n",
       "        M       3.202551e+06    783.490899    181.792241   109.456886"
      ]
     },
     "execution_count": 20,
     "metadata": {},
     "output_type": "execute_result"
    }
   ],
   "source": [
    "df.groupby(['Country', 'Gender']).mean()"
   ]
  },
  {
   "cell_type": "markdown",
   "metadata": {},
   "source": [
    "From the table above the difference is largest in the United States."
   ]
  },
  {
   "cell_type": "markdown",
   "metadata": {},
   "source": [
    "## 8. Relationship between country, gender and week 1 revenue"
   ]
  },
  {
   "cell_type": "code",
   "execution_count": 21,
   "metadata": {},
   "outputs": [
    {
     "data": {
      "image/png": "[encoded data removed]",
      "text/plain": [
       "<Figure size 432x288 with 1 Axes>"
      ]
     },
     "metadata": {
      "needs_background": "light"
     },
     "output_type": "display_data"
    }
   ],
   "source": [
    "sb.barplot(x=\"Country\", y=\"Week 1 Revenue\", hue=\"Gender\"\n",
    "           , data=df.rename(columns = {'Week1Revenue':'Week 1 Revenue'}, inplace = False));"
   ]
  },
  {
   "cell_type": "markdown",
   "metadata": {},
   "source": [
    "## 9. Linear regression model\n",
    "\n",
    "Since the linear model needs floats as inputs, we have to convert the categorical inputs to number inputs. This is done with `pd.get_dummies()`"
   ]
  },
  {
   "cell_type": "code",
   "execution_count": 22,
   "metadata": {
    "scrolled": true
   },
   "outputs": [
    {
     "data": {
      "text/html": [
       "<div>\n",
       "<style scoped>\n",
       "    .dataframe tbody tr th:only-of-type {\n",
       "        vertical-align: middle;\n",
       "    }\n",
       "\n",
       "    .dataframe tbody tr th {\n",
       "        vertical-align: top;\n",
       "    }\n",
       "\n",
       "    .dataframe thead th {\n",
       "        text-align: right;\n",
       "    }\n",
       "</style>\n",
       "<table border=\"1\" class=\"dataframe\">\n",
       "  <thead>\n",
       "    <tr style=\"text-align: right;\">\n",
       "      <th></th>\n",
       "      <th>Gender_F</th>\n",
       "      <th>Gender_M</th>\n",
       "      <th>Country_DE</th>\n",
       "      <th>Country_FR</th>\n",
       "      <th>Country_GB</th>\n",
       "      <th>Country_Other</th>\n",
       "      <th>Country_US</th>\n",
       "      <th>Age</th>\n",
       "      <th>Day1Revenue</th>\n",
       "    </tr>\n",
       "  </thead>\n",
       "  <tbody>\n",
       "    <tr>\n",
       "      <th>0</th>\n",
       "      <td>0</td>\n",
       "      <td>1</td>\n",
       "      <td>1</td>\n",
       "      <td>0</td>\n",
       "      <td>0</td>\n",
       "      <td>0</td>\n",
       "      <td>0</td>\n",
       "      <td>27.906849</td>\n",
       "      <td>0.0</td>\n",
       "    </tr>\n",
       "    <tr>\n",
       "      <th>1</th>\n",
       "      <td>0</td>\n",
       "      <td>1</td>\n",
       "      <td>0</td>\n",
       "      <td>0</td>\n",
       "      <td>1</td>\n",
       "      <td>0</td>\n",
       "      <td>0</td>\n",
       "      <td>44.586301</td>\n",
       "      <td>0.0</td>\n",
       "    </tr>\n",
       "    <tr>\n",
       "      <th>2</th>\n",
       "      <td>0</td>\n",
       "      <td>1</td>\n",
       "      <td>0</td>\n",
       "      <td>0</td>\n",
       "      <td>1</td>\n",
       "      <td>0</td>\n",
       "      <td>0</td>\n",
       "      <td>32.520548</td>\n",
       "      <td>0.0</td>\n",
       "    </tr>\n",
       "    <tr>\n",
       "      <th>3</th>\n",
       "      <td>0</td>\n",
       "      <td>1</td>\n",
       "      <td>0</td>\n",
       "      <td>0</td>\n",
       "      <td>0</td>\n",
       "      <td>1</td>\n",
       "      <td>0</td>\n",
       "      <td>39.358904</td>\n",
       "      <td>0.0</td>\n",
       "    </tr>\n",
       "    <tr>\n",
       "      <th>4</th>\n",
       "      <td>1</td>\n",
       "      <td>0</td>\n",
       "      <td>0</td>\n",
       "      <td>0</td>\n",
       "      <td>0</td>\n",
       "      <td>1</td>\n",
       "      <td>0</td>\n",
       "      <td>34.967123</td>\n",
       "      <td>0.0</td>\n",
       "    </tr>\n",
       "  </tbody>\n",
       "</table>\n",
       "</div>"
      ],
      "text/plain": [
       "   Gender_F  Gender_M  Country_DE  Country_FR  Country_GB  Country_Other  \\\n",
       "0         0         1           1           0           0              0   \n",
       "1         0         1           0           0           1              0   \n",
       "2         0         1           0           0           1              0   \n",
       "3         0         1           0           0           0              1   \n",
       "4         1         0           0           0           0              1   \n",
       "\n",
       "   Country_US        Age  Day1Revenue  \n",
       "0           0  27.906849          0.0  \n",
       "1           0  44.586301          0.0  \n",
       "2           0  32.520548          0.0  \n",
       "3           0  39.358904          0.0  \n",
       "4           0  34.967123          0.0  "
      ]
     },
     "execution_count": 22,
     "metadata": {},
     "output_type": "execute_result"
    }
   ],
   "source": [
    "# Prepare data\n",
    "dummies = pd.get_dummies(df[['Gender', 'Country']])\n",
    "X = dummies\n",
    "X['Age'] = df['Age'].dt.days/365.\n",
    "X['Day1Revenue'] = df['Day1Revenue']\n",
    "y = df.Week1Revenue\n",
    "X.head()"
   ]
  },
  {
   "cell_type": "markdown",
   "metadata": {},
   "source": [
    "Now the model can be set-up:"
   ]
  },
  {
   "cell_type": "code",
   "execution_count": 23,
   "metadata": {},
   "outputs": [
    {
     "name": "stdout",
     "output_type": "stream",
     "text": [
      "Model Coefficients:\n",
      "Gender_F -1.8\n",
      "Gender_M 1.8\n",
      "Country_DE -13.0\n",
      "Country_FR 19.3\n",
      "Country_GB 8.3\n",
      "Country_Other -10.4\n",
      "Country_US -4.2\n",
      "Age 0.9\n",
      "Day1Revenue 1.3\n",
      "\n",
      "Order of variables with most impact on prediction (highest to lowest):\n",
      "Country_FR\n",
      "Country_DE\n",
      "Country_Other\n",
      "Country_GB\n",
      "Country_US\n",
      "Gender_M\n",
      "Gender_F\n",
      "Day1Revenue\n",
      "Age\n"
     ]
    }
   ],
   "source": [
    "# set up model\n",
    "lm = linear_model.LinearRegression()\n",
    "model = lm.fit(X,y)\n",
    "\n",
    "# Print the model coefficients\n",
    "print(\"Model Coefficients:\")\n",
    "[print(j ,\"{:0.1f}\".format(i)) for j, i in zip(X.columns, model.coef_)]\n",
    "\n",
    "print('\\nOrder of variables with most impact on prediction (highest to lowest):')\n",
    "[print(i) for i in X.columns[np.flip(np.argsort(abs(model.coef_)))]];\n",
    "\n",
    "\n"
   ]
  },
  {
   "cell_type": "markdown",
   "metadata": {},
   "source": [
    "### Variables with most impact on final result\n",
    "According to the coefficients of the model, living in France or Germany has the most impact on the result of the prediction. The age is the least important, changing country from Germany to France has about the same about as a 25 years age increase."
   ]
  },
  {
   "cell_type": "markdown",
   "metadata": {},
   "source": [
    "## 10. Predicted revenue of French, German and British Women"
   ]
  },
  {
   "cell_type": "markdown",
   "metadata": {},
   "source": [
    "First let's create the input Dataframe for the model. Each row contains one user with the characteristics asked in the question."
   ]
  },
  {
   "cell_type": "code",
   "execution_count": 24,
   "metadata": {},
   "outputs": [
    {
     "data": {
      "text/html": [
       "<div>\n",
       "<style scoped>\n",
       "    .dataframe tbody tr th:only-of-type {\n",
       "        vertical-align: middle;\n",
       "    }\n",
       "\n",
       "    .dataframe tbody tr th {\n",
       "        vertical-align: top;\n",
       "    }\n",
       "\n",
       "    .dataframe thead th {\n",
       "        text-align: right;\n",
       "    }\n",
       "</style>\n",
       "<table border=\"1\" class=\"dataframe\">\n",
       "  <thead>\n",
       "    <tr style=\"text-align: right;\">\n",
       "      <th></th>\n",
       "      <th>F</th>\n",
       "      <th>M</th>\n",
       "      <th>DE</th>\n",
       "      <th>FR</th>\n",
       "      <th>GB</th>\n",
       "      <th>Other</th>\n",
       "      <th>US</th>\n",
       "      <th>Age</th>\n",
       "      <th>Day1Revenue</th>\n",
       "    </tr>\n",
       "  </thead>\n",
       "  <tbody>\n",
       "    <tr>\n",
       "      <th>0</th>\n",
       "      <td>1.0</td>\n",
       "      <td>0.0</td>\n",
       "      <td>0.0</td>\n",
       "      <td>1.0</td>\n",
       "      <td>0.0</td>\n",
       "      <td>0.0</td>\n",
       "      <td>0.0</td>\n",
       "      <td>40.0</td>\n",
       "      <td>20.0</td>\n",
       "    </tr>\n",
       "    <tr>\n",
       "      <th>1</th>\n",
       "      <td>1.0</td>\n",
       "      <td>0.0</td>\n",
       "      <td>1.0</td>\n",
       "      <td>0.0</td>\n",
       "      <td>0.0</td>\n",
       "      <td>0.0</td>\n",
       "      <td>0.0</td>\n",
       "      <td>40.0</td>\n",
       "      <td>20.0</td>\n",
       "    </tr>\n",
       "    <tr>\n",
       "      <th>2</th>\n",
       "      <td>1.0</td>\n",
       "      <td>0.0</td>\n",
       "      <td>0.0</td>\n",
       "      <td>0.0</td>\n",
       "      <td>1.0</td>\n",
       "      <td>0.0</td>\n",
       "      <td>0.0</td>\n",
       "      <td>40.0</td>\n",
       "      <td>20.0</td>\n",
       "    </tr>\n",
       "  </tbody>\n",
       "</table>\n",
       "</div>"
      ],
      "text/plain": [
       "     F    M   DE   FR   GB  Other   US   Age  Day1Revenue\n",
       "0  1.0  0.0  0.0  1.0  0.0    0.0  0.0  40.0         20.0\n",
       "1  1.0  0.0  1.0  0.0  0.0    0.0  0.0  40.0         20.0\n",
       "2  1.0  0.0  0.0  0.0  1.0    0.0  0.0  40.0         20.0"
      ]
     },
     "execution_count": 24,
     "metadata": {},
     "output_type": "execute_result"
    }
   ],
   "source": [
    "# Create Dataframe for input to the model\n",
    "\n",
    "#                             F  M  DE FR GB Other US  Age  Day1Revenue\n",
    "df2 = pd.DataFrame(np.array([[1, 0, 0, 1, 0, 0,     0, 40,  20] \n",
    "                            ,[1, 0, 1, 0, 0, 0,     0, 40,  20] \n",
    "                            ,[1, 0, 0, 0, 1, 0,     0, 40,  20.]])\n",
    "                            ,columns=['F', 'M', 'DE', 'FR', 'GB', 'Other', 'US', 'Age', 'Day1Revenue'])\n",
    "\n",
    "df2"
   ]
  },
  {
   "cell_type": "markdown",
   "metadata": {},
   "source": [
    "The data above looks correct, now it can be fed into the model:"
   ]
  },
  {
   "cell_type": "code",
   "execution_count": 25,
   "metadata": {},
   "outputs": [
    {
     "data": {
      "text/plain": [
       "array([84.10953772, 51.83117972, 73.07722318])"
      ]
     },
     "execution_count": 25,
     "metadata": {},
     "output_type": "execute_result"
    }
   ],
   "source": [
    "lm.predict(df2)"
   ]
  },
  {
   "cell_type": "markdown",
   "metadata": {},
   "source": [
    " From the above result, we expect French, German, and British women to earn GBP 84, 51, 73 respectively"
   ]
  },
  {
   "cell_type": "markdown",
   "metadata": {},
   "source": [
    "### Linear Model Sanity Check"
   ]
  },
  {
   "cell_type": "markdown",
   "metadata": {},
   "source": [
    "By looking at the plot of means of week 1 revenue, one can see that in general French women earn more than British women, who in turn earn more than German women. This agrees with the previous prediction, where the same pattern is observed."
   ]
  }
 ],
 "metadata": {
  "kernelspec": {
   "display_name": "Python 3",
   "language": "python",
   "name": "python3"
  },
  "language_info": {
   "codemirror_mode": {
    "name": "ipython",
    "version": 3
   },
   "file_extension": ".py",
   "mimetype": "text/x-python",
   "name": "python",
   "nbconvert_exporter": "python",
   "pygments_lexer": "ipython3",
   "version": "3.8.5"
  }
 },
 "nbformat": 4,
 "nbformat_minor": 4
}
